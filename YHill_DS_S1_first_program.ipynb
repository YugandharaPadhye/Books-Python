{
  "nbformat": 4,
  "nbformat_minor": 0,
  "metadata": {
    "colab": {
      "provenance": [],
      "authorship_tag": "ABX9TyMY1EzvYKPZvGZ3uk51j8xc",
      "include_colab_link": true
    },
    "kernelspec": {
      "name": "python3",
      "display_name": "Python 3"
    },
    "language_info": {
      "name": "python"
    }
  },
  "cells": [
    {
      "cell_type": "markdown",
      "metadata": {
        "id": "view-in-github",
        "colab_type": "text"
      },
      "source": [
        "<a href=\"https://colab.research.google.com/github/YugandharaPadhye/Books-Python/blob/main/YHill_DS_S1_first_program.ipynb\" target=\"_parent\"><img src=\"https://colab.research.google.com/assets/colab-badge.svg\" alt=\"Open In Colab\"/></a>"
      ]
    },
    {
      "cell_type": "code",
      "execution_count": 1,
      "metadata": {
        "colab": {
          "base_uri": "https://localhost:8080/"
        },
        "id": "o4-LY2JG37EF",
        "outputId": "a55ac70e-9257-4f2f-8f05-bbd1c1a639e3"
      },
      "outputs": [
        {
          "output_type": "stream",
          "name": "stdout",
          "text": [
            "hello world\n"
          ]
        }
      ],
      "source": [
        "print('hello world')"
      ]
    },
    {
      "cell_type": "code",
      "source": [
        "#myname\n",
        "print('yugandhara')"
      ],
      "metadata": {
        "colab": {
          "base_uri": "https://localhost:8080/"
        },
        "id": "cQKIDj3o5BX2",
        "outputId": "9c080ed7-b4a7-4c7d-9312-acac2b74c8bc"
      },
      "execution_count": 2,
      "outputs": [
        {
          "output_type": "stream",
          "name": "stdout",
          "text": [
            "yugandhara\n"
          ]
        }
      ]
    },
    {
      "cell_type": "code",
      "source": [
        "name = 'yugandhara'\n",
        "type(name)\n",
        "x = 2\n",
        "type(x)\n",
        "y= 3.4\n",
        "type(y)\n",
        "z = true\n",
        "type(z)\n"
      ],
      "metadata": {
        "id": "jHRMXlz56wFz"
      },
      "execution_count": null,
      "outputs": []
    }
  ]
}